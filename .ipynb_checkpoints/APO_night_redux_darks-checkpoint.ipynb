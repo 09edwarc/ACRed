{
 "cells": [
  {
   "cell_type": "markdown",
   "metadata": {},
   "source": [
    "    This routine is 2 of 4. To be run on dark frames only. It will fit a low-order function to the overscan region, subtract the function from the serial direction of the data, then trim off the overscan region. It subtracts a master bias frame. Then combines the dark images, scaled by exposure time to create a master dark image."
   ]
  },
  {
   "cell_type": "code",
   "execution_count": 1,
   "metadata": {},
   "outputs": [],
   "source": [
    "import sys,os,scipy,glob,shutil"
   ]
  },
  {
   "cell_type": "code",
   "execution_count": 2,
   "metadata": {},
   "outputs": [],
   "source": [
    "from pylab import *"
   ]
  },
  {
   "cell_type": "code",
   "execution_count": 3,
   "metadata": {},
   "outputs": [],
   "source": [
    "from astropy import units as un"
   ]
  },
  {
   "cell_type": "code",
   "execution_count": 4,
   "metadata": {},
   "outputs": [],
   "source": [
    "import ccdproc"
   ]
  },
  {
   "cell_type": "code",
   "execution_count": 5,
   "metadata": {},
   "outputs": [],
   "source": [
    "from ccdproc import ImageFileCollection, Combiner"
   ]
  },
  {
   "cell_type": "code",
   "execution_count": 6,
   "metadata": {},
   "outputs": [],
   "source": [
    "keys=['imagetyp','filter','exptime'] #keep track of just these keywords"
   ]
  },
  {
   "cell_type": "code",
   "execution_count": 7,
   "metadata": {},
   "outputs": [],
   "source": [
    "os.chdir('../APO_Data/APO-10-27-17/Q4JH07/UT171028/')"
   ]
  },
  {
   "cell_type": "code",
   "execution_count": 8,
   "metadata": {},
   "outputs": [
    {
     "name": "stdout",
     "output_type": "stream",
     "text": [
      "/Users/strolger/Box Sync/APO_Data_Photometry/APO_DATA/APO-10-27-17/Q4JH07/UT171028\n"
     ]
    }
   ],
   "source": [
    "print(os.getcwd())"
   ]
  },
  {
   "cell_type": "code",
   "execution_count": 9,
   "metadata": {},
   "outputs": [],
   "source": [
    "darks=glob.glob('dark.????.fits')"
   ]
  },
  {
   "cell_type": "code",
   "execution_count": 10,
   "metadata": {},
   "outputs": [],
   "source": [
    "from astropy.modeling import models"
   ]
  },
  {
   "cell_type": "code",
   "execution_count": 11,
   "metadata": {},
   "outputs": [],
   "source": [
    "poly_model = models.Polynomial1D(3) #a low order fit"
   ]
  },
  {
   "cell_type": "code",
   "execution_count": 12,
   "metadata": {},
   "outputs": [],
   "source": [
    "dark_dic={}"
   ]
  },
  {
   "cell_type": "code",
   "execution_count": 13,
   "metadata": {},
   "outputs": [],
   "source": [
    "master_bias = ccdproc.CCDData.read('Bias.fits')"
   ]
  },
  {
   "cell_type": "code",
   "execution_count": 14,
   "metadata": {},
   "outputs": [],
   "source": [
    "exptimes = []"
   ]
  },
  {
   "cell_type": "code",
   "execution_count": 15,
   "metadata": {},
   "outputs": [
    {
     "name": "stdout",
     "output_type": "stream",
     "text": [
      "dark.0216.fits copied to RAW\n",
      "dark.0217.fits copied to RAW\n"
     ]
    },
    {
     "name": "stderr",
     "output_type": "stream",
     "text": [
      "WARNING: VerifyWarning: Verification reported errors: [astropy.io.fits.verify]\n",
      "WARNING: VerifyWarning: Card 'CD1_1' is not FITS standard (invalid value string: '+NAN                 / WCS (1/InstScaleX)*cos(InstAng)').  Fixed 'CD1_1' card to meet the FITS standard. [astropy.io.fits.verify]\n",
      "WARNING: VerifyWarning: Note: astropy.io.fits uses zero-based indexing.\n",
      " [astropy.io.fits.verify]\n",
      "WARNING: VerifyWarning: Card 'CD1_2' is not FITS standard (invalid value string: '+NAN                 / WCS (1/InstScaleY)*sin(InstAng)').  Fixed 'CD1_2' card to meet the FITS standard. [astropy.io.fits.verify]\n",
      "WARNING: VerifyWarning: Card 'CD2_1' is not FITS standard (invalid value string: '+NAN                 / WCS (-1/(InstScaleX)*sin(InstAng)').  Fixed 'CD2_1' card to meet the FITS standard. [astropy.io.fits.verify]\n",
      "WARNING: VerifyWarning: Card 'CD2_2' is not FITS standard (invalid value string: '+NAN                 / WCS (1/InstScaleY)*cos(InstAng)').  Fixed 'CD2_2' card to meet the FITS standard. [astropy.io.fits.verify]\n",
      "WARNING: FITSFixedWarning: RADECSYS= 'Mount' / Coordinate system, per TCC ObjSys \n",
      "the RADECSYS keyword is deprecated, use RADESYSa. [astropy.wcs.wcs]\n",
      "WARNING: FITSFixedWarning: CD1_1 = '+NAN ' / WCS (1/InstScaleX)*cos(InstAng) \n",
      "a floating-point value was expected. [astropy.wcs.wcs]\n",
      "WARNING: FITSFixedWarning: CD1_2 = '+NAN ' / WCS (1/InstScaleY)*sin(InstAng) \n",
      "a floating-point value was expected. [astropy.wcs.wcs]\n",
      "WARNING: FITSFixedWarning: CD2_1 = '+NAN ' / WCS (-1/(InstScaleX)*sin(InstAng) \n",
      "a floating-point value was expected. [astropy.wcs.wcs]\n",
      "WARNING: FITSFixedWarning: CD2_2 = '+NAN ' / WCS (1/InstScaleY)*cos(InstAng) \n",
      "a floating-point value was expected. [astropy.wcs.wcs]\n"
     ]
    },
    {
     "name": "stdout",
     "output_type": "stream",
     "text": [
      "dark.0218.fits copied to RAW\n",
      "dark.0242.fits copied to RAW\n",
      "dark.0243.fits copied to RAW\n"
     ]
    }
   ],
   "source": [
    "for darkimg in darks:\n",
    "    if not os.path.isdir('RAW'):\n",
    "        os.mkdir('RAW')\n",
    "        print ('RAW directory created')\n",
    "    if not os.path.isfile('RAW/%s'%darkimg):\n",
    "        shutil.copyfile(darkimg,'RAW/%s'%darkimg)\n",
    "        print('%s copied to RAW' %darkimg)\n",
    "    \n",
    "    tmpimg = ccdproc.CCDData.read(darkimg,unit='adu')\n",
    "    tmplog = {'overscan':'overscan region[:,1029:1050] subtracted','calstat':'O'}\n",
    "    ns_tmpimg = ccdproc.subtract_overscan(tmpimg,overscan=tmpimg[:,1029:1050],model=poly_model,add_keyword=tmplog)\n",
    "    tmplog = {'trim':'overscan region trimmed','calstat':'OT'}\n",
    "    tr_tmpimg = ccdproc.trim_image(ns_tmpimg[:,:1024],add_keyword=tmplog)\n",
    "    tmplog = {'bias':'Zero image subtracted','calstat':'OTZ'}\n",
    "    ze_tmpimg = ccdproc.subtract_bias(tr_tmpimg,master_bias,add_keyword=tmplog)\n",
    "        \n",
    "    #ze_tmpimg.write(darkimg,clobber=True)\n",
    "    dark_dic[darkimg]=ze_tmpimg\n",
    "    exptimes.append(float(ze_tmpimg.header['exptime']))"
   ]
  },
  {
   "cell_type": "code",
   "execution_count": 16,
   "metadata": {},
   "outputs": [
    {
     "name": "stdout",
     "output_type": "stream",
     "text": [
      "[300.0, 300.0, 300.0, 300.0, 300.0]\n"
     ]
    }
   ],
   "source": [
    "print(exptimes)"
   ]
  },
  {
   "cell_type": "code",
   "execution_count": 17,
   "metadata": {},
   "outputs": [],
   "source": [
    "combiner = Combiner(dark_dic.values())"
   ]
  },
  {
   "cell_type": "code",
   "execution_count": 18,
   "metadata": {},
   "outputs": [],
   "source": [
    "combiner.scaling=exptimes[0]/array(exptimes)"
   ]
  },
  {
   "cell_type": "code",
   "execution_count": 19,
   "metadata": {},
   "outputs": [],
   "source": [
    "med_dark = combiner.median_combine() # may use a more agressive combine later"
   ]
  },
  {
   "cell_type": "code",
   "execution_count": 20,
   "metadata": {},
   "outputs": [],
   "source": [
    "med_dark.header['exptime']=exptimes[0]"
   ]
  },
  {
   "cell_type": "code",
   "execution_count": 21,
   "metadata": {},
   "outputs": [
    {
     "name": "stderr",
     "output_type": "stream",
     "text": [
      "WARNING: AstropyDeprecationWarning: \"clobber\" was deprecated in version 2.0 and will be removed in a future version. Use argument \"overwrite\" instead. [astropy.nddata.ccddata]\n"
     ]
    }
   ],
   "source": [
    "med_dark.write('Dark.fits')"
   ]
  },
  {
   "cell_type": "code",
   "execution_count": 22,
   "metadata": {},
   "outputs": [
    {
     "data": {
      "text/plain": [
       "[None, None, None, None, None]"
      ]
     },
     "execution_count": 22,
     "metadata": {},
     "output_type": "execute_result"
    }
   ],
   "source": [
    "[os.remove(x) for x in dark_dic.keys()]"
   ]
  },
  {
   "cell_type": "code",
   "execution_count": null,
   "metadata": {},
   "outputs": [],
   "source": []
  }
 ],
 "metadata": {
  "kernelspec": {
   "display_name": "Python 3",
   "language": "python",
   "name": "python3"
  },
  "language_info": {
   "codemirror_mode": {
    "name": "ipython",
    "version": 3
   },
   "file_extension": ".py",
   "mimetype": "text/x-python",
   "name": "python",
   "nbconvert_exporter": "python",
   "pygments_lexer": "ipython3",
   "version": "3.5.4"
  }
 },
 "nbformat": 4,
 "nbformat_minor": 2
}
