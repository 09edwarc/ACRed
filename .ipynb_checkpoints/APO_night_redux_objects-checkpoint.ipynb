{
 "cells": [
  {
   "cell_type": "markdown",
   "metadata": {},
   "source": [
    "    This routine is 4 of 4. To be run on object frames only. It will fit a low-order function to the overscan region, subtract the function from the serial direction of the data, then trim off the overscan region. It subtracts a master bias frame, then subtracts an exposure-scale master dark image. Lastly it illumination corrects object images with a set of master flat images, sorted by filter."
   ]
  },
  {
   "cell_type": "code",
   "execution_count": 1,
   "metadata": {},
   "outputs": [],
   "source": [
    "import sys,os,scipy,glob,shutil"
   ]
  },
  {
   "cell_type": "code",
   "execution_count": 2,
   "metadata": {},
   "outputs": [],
   "source": [
    "from pylab import *"
   ]
  },
  {
   "cell_type": "code",
   "execution_count": 3,
   "metadata": {},
   "outputs": [],
   "source": [
    "from astropy import units as un"
   ]
  },
  {
   "cell_type": "code",
   "execution_count": 4,
   "metadata": {},
   "outputs": [],
   "source": [
    "import ccdproc"
   ]
  },
  {
   "cell_type": "code",
   "execution_count": 5,
   "metadata": {},
   "outputs": [],
   "source": [
    "from ccdproc import ImageFileCollection, Combiner"
   ]
  },
  {
   "cell_type": "code",
   "execution_count": 6,
   "metadata": {},
   "outputs": [],
   "source": [
    "keys=['imagetyp','filter','exptime'] #keep track of just these keywords"
   ]
  },
  {
   "cell_type": "code",
   "execution_count": 7,
   "metadata": {},
   "outputs": [],
   "source": [
    "os.chdir('../APO_Data/APO-10-27-17/Q4JH07/UT171028/')"
   ]
  },
  {
   "cell_type": "code",
   "execution_count": 8,
   "metadata": {},
   "outputs": [
    {
     "name": "stdout",
     "output_type": "stream",
     "text": [
      "/home/strolger/APO_Data/APO-10-27-17/Q4JH07/UT171028\n"
     ]
    }
   ],
   "source": [
    "print(os.getcwd())"
   ]
  },
  {
   "cell_type": "code",
   "execution_count": 9,
   "metadata": {},
   "outputs": [],
   "source": [
    "objects=glob.glob('*_?.????.fits')"
   ]
  },
  {
   "cell_type": "code",
   "execution_count": 10,
   "metadata": {},
   "outputs": [],
   "source": [
    "from astropy.modeling import models"
   ]
  },
  {
   "cell_type": "code",
   "execution_count": 11,
   "metadata": {},
   "outputs": [],
   "source": [
    "poly_model = models.Polynomial1D(3) #a low order fit"
   ]
  },
  {
   "cell_type": "code",
   "execution_count": 13,
   "metadata": {},
   "outputs": [],
   "source": [
    "objects_dic={}"
   ]
  },
  {
   "cell_type": "code",
   "execution_count": 14,
   "metadata": {},
   "outputs": [],
   "source": [
    "master_bias = ccdproc.CCDData.read('Bias.fits')"
   ]
  },
  {
   "cell_type": "code",
   "execution_count": 15,
   "metadata": {},
   "outputs": [],
   "source": [
    "master_dark = ccdproc.CCDData.read('Dark.fits')"
   ]
  },
  {
   "cell_type": "code",
   "execution_count": 16,
   "metadata": {},
   "outputs": [],
   "source": [
    "master_dark.header['exptime']=300.0"
   ]
  },
  {
   "cell_type": "code",
   "execution_count": 17,
   "metadata": {},
   "outputs": [
    {
     "name": "stdout",
     "output_type": "stream",
     "text": [
      "300.0\n"
     ]
    }
   ],
   "source": [
    "print(master_dark.header['exptime'])"
   ]
  },
  {
   "cell_type": "code",
   "execution_count": 18,
   "metadata": {},
   "outputs": [],
   "source": [
    "wavebands = []"
   ]
  },
  {
   "cell_type": "code",
   "execution_count": 19,
   "metadata": {},
   "outputs": [
    {
     "name": "stderr",
     "output_type": "stream",
     "text": [
      "WARNING: FITSFixedWarning: RADECSYS= 'FK5' / Coordinate system, per TCC ObjSys \n",
      "the RADECSYS keyword is deprecated, use RADESYSa. [astropy.wcs.wcs]\n"
     ]
    }
   ],
   "source": [
    "for objimg in objects:\n",
    "    tmpimg = ccdproc.CCDData.read(objimg,unit='adu')\n",
    "    wavebands.append(tmpimg.header['filter'])"
   ]
  },
  {
   "cell_type": "code",
   "execution_count": 20,
   "metadata": {},
   "outputs": [],
   "source": [
    "wavebands=list(set(wavebands))"
   ]
  },
  {
   "cell_type": "code",
   "execution_count": 21,
   "metadata": {},
   "outputs": [
    {
     "name": "stdout",
     "output_type": "stream",
     "text": [
      "['SDSS r', 'SDSS g']\n"
     ]
    }
   ],
   "source": [
    "print(wavebands)"
   ]
  },
  {
   "cell_type": "code",
   "execution_count": 24,
   "metadata": {},
   "outputs": [],
   "source": [
    "master_flat={}"
   ]
  },
  {
   "cell_type": "code",
   "execution_count": 25,
   "metadata": {},
   "outputs": [],
   "source": [
    "for waveband in wavebands:\n",
    "    objects_dic[waveband]={}\n",
    "    master_flat[waveband]=ccdproc.CCDData.read('Flat%s.fits'%('_'.join(waveband.split())))"
   ]
  },
  {
   "cell_type": "code",
   "execution_count": 28,
   "metadata": {},
   "outputs": [
    {
     "name": "stdout",
     "output_type": "stream",
     "text": [
      "15ad_g.0194.fits copied to RAW\n",
      "15ad_g.0205.fits copied to RAW\n"
     ]
    },
    {
     "name": "stderr",
     "output_type": "stream",
     "text": [
      "WARNING: FITSFixedWarning: RADECSYS= 'FK5' / Coordinate system, per TCC ObjSys \n",
      "the RADECSYS keyword is deprecated, use RADESYSa. [astropy.wcs.wcs]\n",
      "WARNING: AstropyDeprecationWarning: \"clobber\" was deprecated in version 2.0 and will be removed in a future version. Use argument \"overwrite\" instead. [astropy.nddata.ccddata]\n"
     ]
    },
    {
     "name": "stdout",
     "output_type": "stream",
     "text": [
      "15ad_r.0180.fits copied to RAW\n",
      "15ti_r.0019.fits copied to RAW\n",
      "15ti_g.0051.fits copied to RAW\n",
      "17br_g.0036.fits copied to RAW\n",
      "15ti_g.0028.fits copied to RAW\n",
      "15ad_r.0182.fits copied to RAW\n",
      "15ti_r.0038.fits copied to RAW\n",
      "15ad_g.0213.fits copied to RAW\n",
      "15ad_r.0185.fits copied to RAW\n",
      "15ad_r.0211.fits copied to RAW\n",
      "15ad_g.0203.fits copied to RAW\n",
      "17br_r.0032.fits copied to RAW\n",
      "15ad_r.0060.fits copied to RAW\n",
      "15ti_g.0030.fits copied to RAW\n",
      "15ad_g.0065.fits copied to RAW\n",
      "15ad_r.0212.fits copied to RAW\n",
      "15ti_g.0022.fits copied to RAW\n",
      "15ad_r.0177.fits copied to RAW\n",
      "15ad_r.0056.fits copied to RAW\n",
      "15ti_g.0049.fits copied to RAW\n",
      "17br_r.0003.fits copied to RAW\n",
      "15ti_r.0021.fits copied to RAW\n",
      "15ad_g.0073.fits copied to RAW\n",
      "15ad_r.0062.fits copied to RAW\n",
      "17br_r.0004.fits copied to RAW\n",
      "15ad_g.0071.fits copied to RAW\n",
      "15ad_g.0066.fits copied to RAW\n",
      "15ad_g.0068.fits copied to RAW\n",
      "15ad_r.0189.fits copied to RAW\n",
      "15ad_r.0183.fits copied to RAW\n",
      "15ad_r.0175.fits copied to RAW\n",
      "15ti_r.0043.fits copied to RAW\n",
      "15ti_g.0023.fits copied to RAW\n",
      "15ad_g.0069.fits copied to RAW\n",
      "15ad_g.0214.fits copied to RAW\n",
      "15ti_g.0026.fits copied to RAW\n",
      "15ad_r.0058.fits copied to RAW\n",
      "15ad_r.0064.fits copied to RAW\n",
      "17br_r.0033.fits copied to RAW\n",
      "17br_g.0006.fits copied to RAW\n",
      "15ad_r.0174.fits copied to RAW\n",
      "15ti_r.0042.fits copied to RAW\n",
      "15ti_r.0045.fits copied to RAW\n",
      "15ti_r.0016.fits copied to RAW\n",
      "15ad_g.0197.fits copied to RAW\n",
      "17br_g.0035.fits copied to RAW\n",
      "17br_r.0031.fits copied to RAW\n",
      "15ad_g.0215.fits copied to RAW\n",
      "15ti_r.0018.fits copied to RAW\n",
      "15ti_g.0024.fits copied to RAW\n",
      "15ad_r.0187.fits copied to RAW\n",
      "15ti_g.0048.fits copied to RAW\n",
      "15ad_r.0181.fits copied to RAW\n",
      "15ad_g.0192.fits copied to RAW\n",
      "15ad_g.0072.fits copied to RAW\n",
      "15ad_r.0191.fits copied to RAW\n",
      "15ad_g.0209.fits copied to RAW\n",
      "15ti_r.0020.fits copied to RAW\n",
      "15ad_r.0179.fits copied to RAW\n",
      "15ti_r.0037.fits copied to RAW\n",
      "17br_g.0007.fits copied to RAW\n",
      "17br_g.0005.fits copied to RAW\n",
      "15ti_r.0044.fits copied to RAW\n",
      "15ti_g.0046.fits copied to RAW\n",
      "15ad_r.0061.fits copied to RAW\n",
      "15ad_r.0188.fits copied to RAW\n",
      "15ti_r.0041.fits copied to RAW\n",
      "15ad_r.0176.fits copied to RAW\n",
      "15ad_g.0202.fits copied to RAW\n",
      "15ti_r.0017.fits copied to RAW\n",
      "15ti_r.0040.fits copied to RAW\n",
      "15ti_g.0050.fits copied to RAW\n",
      "15ad_r.0186.fits copied to RAW\n",
      "15ad_g.0196.fits copied to RAW\n",
      "15ad_r.0059.fits copied to RAW\n",
      "15ti_r.0013.fits copied to RAW\n",
      "15ad_g.0200.fits copied to RAW\n",
      "15ad_g.0199.fits copied to RAW\n",
      "17br_g.0034.fits copied to RAW\n",
      "15ad_g.0067.fits copied to RAW\n",
      "15ti_r.0014.fits copied to RAW\n",
      "15ti_g.0027.fits copied to RAW\n",
      "15ad_g.0195.fits copied to RAW\n",
      "17br_r.0002.fits copied to RAW\n",
      "15ad_g.0207.fits copied to RAW\n",
      "15ad_g.0070.fits copied to RAW\n",
      "15ad_r.0178.fits copied to RAW\n",
      "15ad_g.0201.fits copied to RAW\n",
      "15ti_g.0053.fits copied to RAW\n",
      "15ad_g.0204.fits copied to RAW\n",
      "15ad_g.0206.fits copied to RAW\n",
      "15ad_g.0208.fits copied to RAW\n",
      "15ad_g.0198.fits copied to RAW\n",
      "15ti_g.0047.fits copied to RAW\n",
      "15ad_r.0063.fits copied to RAW\n",
      "15ti_r.0039.fits copied to RAW\n",
      "15ti_g.0052.fits copied to RAW\n",
      "15ti_g.0054.fits copied to RAW\n",
      "15ad_g.0193.fits copied to RAW\n",
      "15ad_r.0184.fits copied to RAW\n",
      "15ti_g.0029.fits copied to RAW\n",
      "15ti_g.0025.fits copied to RAW\n",
      "15ad_r.0190.fits copied to RAW\n",
      "15ad_r.0057.fits copied to RAW\n",
      "15ad_r.0210.fits copied to RAW\n",
      "15ti_r.0015.fits copied to RAW\n"
     ]
    }
   ],
   "source": [
    "for objimg in objects:\n",
    "    if not os.path.isdir('RAW'):\n",
    "        os.mkdir('RAW')\n",
    "        print ('RAW directory created')\n",
    "    if not os.path.isfile('RAW/%s'%objimg):\n",
    "        shutil.copyfile(objimg,'RAW/%s'%objimg)\n",
    "        print('%s copied to RAW' %objimg)\n",
    "    \n",
    "    tmpimg = ccdproc.CCDData.read(objimg,unit='adu')\n",
    "    tmplog = {'overscan':'overscan region[:,1029:1050] subtracted','calstat':'O'}\n",
    "    ns_tmpimg = ccdproc.subtract_overscan(tmpimg,overscan=tmpimg[:,1029:1050],model=poly_model,add_keyword=tmplog)\n",
    "    tmplog = {'trim':'overscan region trimmed','calstat':'OT'}\n",
    "    tr_tmpimg = ccdproc.trim_image(ns_tmpimg[:,:1024],add_keyword=tmplog)\n",
    "    tmplog = {'bias':'Zero image subtracted','calstat':'OTZ'}\n",
    "    ze_tmpimg = ccdproc.subtract_bias(tr_tmpimg,master_bias,add_keyword=tmplog)\n",
    "    tmplog = {'dark':'Dark image subtracted','calstat':'OTZD'}\n",
    "    dk_tmpimg = ccdproc.subtract_dark(ze_tmpimg,master_dark,exposure_time='exptime',exposure_unit=un.second, scale=True, add_keyword=tmplog)\n",
    "        \n",
    "    if dk_tmpimg.header['filter'] in wavebands:\n",
    "        tmplog = {'flat':'Flat image corrected','calstat':'OTZDF'}\n",
    "        ft_tmpimg = ccdproc.flat_correct(dk_tmpimg,master_flat[dk_tmpimg.header['filter']],add_keyword=tmplog)\n",
    "        ft_tmpimg.write(objimg,clobber=True)\n",
    "    else:\n",
    "        dk_tmpimg.write(objimg,clobber=True)"
   ]
  }
 ],
 "metadata": {
  "kernelspec": {
   "display_name": "Python 3",
   "language": "python",
   "name": "python3"
  },
  "language_info": {
   "codemirror_mode": {
    "name": "ipython",
    "version": 3
   },
   "file_extension": ".py",
   "mimetype": "text/x-python",
   "name": "python",
   "nbconvert_exporter": "python",
   "pygments_lexer": "ipython3",
   "version": "3.5.4"
  }
 },
 "nbformat": 4,
 "nbformat_minor": 2
}
