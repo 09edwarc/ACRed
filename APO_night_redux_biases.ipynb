{
 "cells": [
  {
   "cell_type": "markdown",
   "metadata": {},
   "source": [
    "    This routine is 1 of 4. To be run on bias frames only. It will fit a low-order function to the overscan region, subtract the function from the serial direction of the data, then trim off the overscan region. It will then combine the biases to create a master bias."
   ]
  },
  {
   "cell_type": "code",
   "execution_count": 1,
   "metadata": {},
   "outputs": [],
   "source": [
    "import sys,os,scipy,glob,shutil"
   ]
  },
  {
   "cell_type": "code",
   "execution_count": 2,
   "metadata": {},
   "outputs": [],
   "source": [
    "from pylab import *"
   ]
  },
  {
   "cell_type": "code",
   "execution_count": 3,
   "metadata": {},
   "outputs": [],
   "source": [
    "from astropy import units as un"
   ]
  },
  {
   "cell_type": "code",
   "execution_count": 4,
   "metadata": {},
   "outputs": [],
   "source": [
    "import ccdproc"
   ]
  },
  {
   "cell_type": "code",
   "execution_count": 5,
   "metadata": {},
   "outputs": [],
   "source": [
    "from ccdproc import ImageFileCollection, Combiner"
   ]
  },
  {
   "cell_type": "code",
   "execution_count": 6,
   "metadata": {},
   "outputs": [],
   "source": [
    "keys=['imagetyp','filter','exptime'] #keep track of just these keywords"
   ]
  },
  {
   "cell_type": "code",
   "execution_count": 7,
   "metadata": {},
   "outputs": [],
   "source": [
    "os.chdir('../APO_Data/APO-10-27-17/Q4JH07/UT171028/')"
   ]
  },
  {
   "cell_type": "code",
   "execution_count": 8,
   "metadata": {},
   "outputs": [
    {
     "name": "stdout",
     "output_type": "stream",
     "text": [
      "/home/strolger/APO_Data/APO-10-27-17/Q4JH07/UT171028\n"
     ]
    }
   ],
   "source": [
    "print(os.getcwd())"
   ]
  },
  {
   "cell_type": "code",
   "execution_count": 9,
   "metadata": {},
   "outputs": [],
   "source": [
    "biases=glob.glob('bias.????.fits')"
   ]
  },
  {
   "cell_type": "code",
   "execution_count": 10,
   "metadata": {},
   "outputs": [],
   "source": [
    "from astropy.modeling import models"
   ]
  },
  {
   "cell_type": "code",
   "execution_count": 11,
   "metadata": {},
   "outputs": [],
   "source": [
    "poly_model = models.Polynomial1D(3) #a low order fit"
   ]
  },
  {
   "cell_type": "code",
   "execution_count": 12,
   "metadata": {},
   "outputs": [],
   "source": [
    "bias_dic={}"
   ]
  },
  {
   "cell_type": "code",
   "execution_count": 13,
   "metadata": {},
   "outputs": [
    {
     "name": "stdout",
     "output_type": "stream",
     "text": [
      "RAW directory created\n",
      "bias.0110.fits copied to RAW\n",
      "bias.0125.fits copied to RAW\n",
      "bias.0162.fits copied to RAW\n",
      "bias.0138.fits copied to RAW\n",
      "bias.0105.fits copied to RAW\n",
      "bias.0165.fits copied to RAW\n",
      "bias.0150.fits copied to RAW\n",
      "bias.0098.fits copied to RAW\n"
     ]
    },
    {
     "name": "stderr",
     "output_type": "stream",
     "text": [
      "WARNING: FITSFixedWarning: RADECSYS= 'FK5' / Coordinate system, per TCC ObjSys \n",
      "the RADECSYS keyword is deprecated, use RADESYSa. [astropy.wcs.wcs]\n"
     ]
    },
    {
     "name": "stdout",
     "output_type": "stream",
     "text": [
      "bias.0170.fits copied to RAW\n",
      "bias.0121.fits copied to RAW\n",
      "bias.0075.fits copied to RAW\n",
      "bias.0133.fits copied to RAW\n",
      "bias.0117.fits copied to RAW\n",
      "bias.0171.fits copied to RAW\n",
      "bias.0129.fits copied to RAW\n",
      "bias.0154.fits copied to RAW\n",
      "bias.0158.fits copied to RAW\n",
      "bias.0166.fits copied to RAW\n",
      "bias.0083.fits copied to RAW\n",
      "bias.0111.fits copied to RAW\n",
      "bias.0147.fits copied to RAW\n",
      "bias.0101.fits copied to RAW\n",
      "bias.0086.fits copied to RAW\n",
      "bias.0095.fits copied to RAW\n",
      "bias.0092.fits copied to RAW\n",
      "bias.0118.fits copied to RAW\n",
      "bias.0107.fits copied to RAW\n",
      "bias.0136.fits copied to RAW\n",
      "bias.0113.fits copied to RAW\n",
      "bias.0152.fits copied to RAW\n",
      "bias.0088.fits copied to RAW\n",
      "bias.0099.fits copied to RAW\n",
      "bias.0103.fits copied to RAW\n",
      "bias.0106.fits copied to RAW\n",
      "bias.0163.fits copied to RAW\n",
      "bias.0112.fits copied to RAW\n",
      "bias.0114.fits copied to RAW\n",
      "bias.0130.fits copied to RAW\n",
      "bias.0169.fits copied to RAW\n",
      "bias.0089.fits copied to RAW\n",
      "bias.0100.fits copied to RAW\n",
      "bias.0160.fits copied to RAW\n",
      "bias.0093.fits copied to RAW\n",
      "bias.0148.fits copied to RAW\n",
      "bias.0097.fits copied to RAW\n",
      "bias.0096.fits copied to RAW\n",
      "bias.0134.fits copied to RAW\n",
      "bias.0153.fits copied to RAW\n",
      "bias.0087.fits copied to RAW\n",
      "bias.0137.fits copied to RAW\n",
      "bias.0116.fits copied to RAW\n",
      "bias.0090.fits copied to RAW\n",
      "bias.0128.fits copied to RAW\n",
      "bias.0149.fits copied to RAW\n",
      "bias.0132.fits copied to RAW\n",
      "bias.0140.fits copied to RAW\n",
      "bias.0172.fits copied to RAW\n",
      "bias.0091.fits copied to RAW\n",
      "bias.0078.fits copied to RAW\n",
      "bias.0143.fits copied to RAW\n",
      "bias.0126.fits copied to RAW\n",
      "bias.0155.fits copied to RAW\n",
      "bias.0115.fits copied to RAW\n",
      "bias.0076.fits copied to RAW\n",
      "bias.0108.fits copied to RAW\n",
      "bias.0141.fits copied to RAW\n",
      "bias.0167.fits copied to RAW\n",
      "bias.0109.fits copied to RAW\n",
      "bias.0123.fits copied to RAW\n",
      "bias.0144.fits copied to RAW\n",
      "bias.0085.fits copied to RAW\n",
      "bias.0124.fits copied to RAW\n",
      "bias.0074.fits copied to RAW\n",
      "bias.0102.fits copied to RAW\n",
      "bias.0139.fits copied to RAW\n",
      "bias.0079.fits copied to RAW\n",
      "bias.0173.fits copied to RAW\n",
      "bias.0080.fits copied to RAW\n",
      "bias.0142.fits copied to RAW\n",
      "bias.0135.fits copied to RAW\n",
      "bias.0168.fits copied to RAW\n",
      "bias.0122.fits copied to RAW\n",
      "bias.0082.fits copied to RAW\n",
      "bias.0119.fits copied to RAW\n",
      "bias.0157.fits copied to RAW\n",
      "bias.0084.fits copied to RAW\n",
      "bias.0081.fits copied to RAW\n",
      "bias.0161.fits copied to RAW\n",
      "bias.0145.fits copied to RAW\n",
      "bias.0077.fits copied to RAW\n",
      "bias.0151.fits copied to RAW\n",
      "bias.0127.fits copied to RAW\n",
      "bias.0104.fits copied to RAW\n",
      "bias.0159.fits copied to RAW\n",
      "bias.0120.fits copied to RAW\n",
      "bias.0131.fits copied to RAW\n",
      "bias.0156.fits copied to RAW\n",
      "bias.0146.fits copied to RAW\n",
      "bias.0164.fits copied to RAW\n",
      "bias.0094.fits copied to RAW\n"
     ]
    }
   ],
   "source": [
    "for biasimg in biases:\n",
    "    if not os.path.isdir('RAW'):\n",
    "        os.mkdir('RAW')\n",
    "        print ('RAW directory created')\n",
    "    if not os.path.isfile('RAW/%s'%biasimg):\n",
    "        shutil.copyfile(biasimg,'RAW/%s'%biasimg)\n",
    "        print('%s copied to RAW' %biasimg)\n",
    "    \n",
    "    tmpimg = ccdproc.CCDData.read(biasimg,unit='adu')\n",
    "    tmplog = {'overscan':'overscan region[:,1029:1050] subtracted','calstat':'O'}\n",
    "    ns_tmpimg = ccdproc.subtract_overscan(tmpimg,overscan=tmpimg[:,1029:1050],model=poly_model,add_keyword=tmplog)\n",
    "    tr_tmpimg = ccdproc.trim_image(ns_tmpimg[:,:1024],add_keyword=tmplog)\n",
    "    #tr_tmpimg.write(biasimg,clobber=True)\n",
    "    bias_dic[biasimg]=tr_tmpimg"
   ]
  },
  {
   "cell_type": "code",
   "execution_count": 14,
   "metadata": {},
   "outputs": [],
   "source": [
    "combiner = Combiner(bias_dic.values())"
   ]
  },
  {
   "cell_type": "code",
   "execution_count": 15,
   "metadata": {},
   "outputs": [],
   "source": [
    "med_bias = combiner.median_combine() # may use a more agressive combine later"
   ]
  },
  {
   "cell_type": "code",
   "execution_count": 16,
   "metadata": {},
   "outputs": [],
   "source": [
    "med_bias.write('Bias.fits')"
   ]
  },
  {
   "cell_type": "code",
   "execution_count": 17,
   "metadata": {},
   "outputs": [
    {
     "data": {
      "text/plain": [
       "[None,\n",
       " None,\n",
       " None,\n",
       " None,\n",
       " None,\n",
       " None,\n",
       " None,\n",
       " None,\n",
       " None,\n",
       " None,\n",
       " None,\n",
       " None,\n",
       " None,\n",
       " None,\n",
       " None,\n",
       " None,\n",
       " None,\n",
       " None,\n",
       " None,\n",
       " None,\n",
       " None,\n",
       " None,\n",
       " None,\n",
       " None,\n",
       " None,\n",
       " None,\n",
       " None,\n",
       " None,\n",
       " None,\n",
       " None,\n",
       " None,\n",
       " None,\n",
       " None,\n",
       " None,\n",
       " None,\n",
       " None,\n",
       " None,\n",
       " None,\n",
       " None,\n",
       " None,\n",
       " None,\n",
       " None,\n",
       " None,\n",
       " None,\n",
       " None,\n",
       " None,\n",
       " None,\n",
       " None,\n",
       " None,\n",
       " None,\n",
       " None,\n",
       " None,\n",
       " None,\n",
       " None,\n",
       " None,\n",
       " None,\n",
       " None,\n",
       " None,\n",
       " None,\n",
       " None,\n",
       " None,\n",
       " None,\n",
       " None,\n",
       " None,\n",
       " None,\n",
       " None,\n",
       " None,\n",
       " None,\n",
       " None,\n",
       " None,\n",
       " None,\n",
       " None,\n",
       " None,\n",
       " None,\n",
       " None,\n",
       " None,\n",
       " None,\n",
       " None,\n",
       " None,\n",
       " None,\n",
       " None,\n",
       " None,\n",
       " None,\n",
       " None,\n",
       " None,\n",
       " None,\n",
       " None,\n",
       " None,\n",
       " None,\n",
       " None,\n",
       " None,\n",
       " None,\n",
       " None,\n",
       " None,\n",
       " None,\n",
       " None,\n",
       " None,\n",
       " None,\n",
       " None,\n",
       " None]"
      ]
     },
     "execution_count": 17,
     "metadata": {},
     "output_type": "execute_result"
    }
   ],
   "source": [
    "[os.remove(x) for x in bias_dic.keys()]"
   ]
  },
  {
   "cell_type": "code",
   "execution_count": null,
   "metadata": {},
   "outputs": [],
   "source": []
  }
 ],
 "metadata": {
  "kernelspec": {
   "display_name": "Python 3",
   "language": "python",
   "name": "python3"
  },
  "language_info": {
   "codemirror_mode": {
    "name": "ipython",
    "version": 3
   },
   "file_extension": ".py",
   "mimetype": "text/x-python",
   "name": "python",
   "nbconvert_exporter": "python",
   "pygments_lexer": "ipython3",
   "version": "3.5.4"
  }
 },
 "nbformat": 4,
 "nbformat_minor": 2
}
