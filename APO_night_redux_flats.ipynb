{
 "cells": [
  {
   "cell_type": "markdown",
   "metadata": {},
   "source": [
    "    This routine is 3 of 4. To be run on flat frames only. It will fit a low-order function to the overscan region, subtract the function from the serial direction of the data, then trim off the overscan region. It subtracts a master bias frame, then subtracts an exposure-scale master dark image. Lastly it combines the flat field images, sorted by filter, into master flat images."
   ]
  },
  {
   "cell_type": "code",
   "execution_count": 1,
   "metadata": {},
   "outputs": [],
   "source": [
    "import sys,os,scipy,glob,shutil"
   ]
  },
  {
   "cell_type": "code",
   "execution_count": 2,
   "metadata": {},
   "outputs": [],
   "source": [
    "from pylab import *"
   ]
  },
  {
   "cell_type": "code",
   "execution_count": 3,
   "metadata": {},
   "outputs": [],
   "source": [
    "from astropy import units as un"
   ]
  },
  {
   "cell_type": "code",
   "execution_count": 4,
   "metadata": {},
   "outputs": [],
   "source": [
    "import ccdproc"
   ]
  },
  {
   "cell_type": "code",
   "execution_count": 5,
   "metadata": {},
   "outputs": [],
   "source": [
    "from ccdproc import ImageFileCollection, Combiner"
   ]
  },
  {
   "cell_type": "code",
   "execution_count": 6,
   "metadata": {},
   "outputs": [],
   "source": [
    "keys=['imagetyp','filter','exptime'] #keep track of just these keywords"
   ]
  },
  {
   "cell_type": "code",
   "execution_count": 7,
   "metadata": {},
   "outputs": [],
   "source": [
    "os.chdir('../APO_Data/APO-10-27-17/Q4JH07/UT171028/')"
   ]
  },
  {
   "cell_type": "code",
   "execution_count": 8,
   "metadata": {},
   "outputs": [
    {
     "name": "stdout",
     "output_type": "stream",
     "text": [
      "/home/strolger/APO_Data/APO-10-27-17/Q4JH07/UT171028\n"
     ]
    }
   ],
   "source": [
    "print(os.getcwd())"
   ]
  },
  {
   "cell_type": "code",
   "execution_count": 9,
   "metadata": {},
   "outputs": [],
   "source": [
    "flats=glob.glob('flat_?.????.fits')"
   ]
  },
  {
   "cell_type": "code",
   "execution_count": 10,
   "metadata": {},
   "outputs": [],
   "source": [
    "from astropy.modeling import models"
   ]
  },
  {
   "cell_type": "code",
   "execution_count": 11,
   "metadata": {},
   "outputs": [],
   "source": [
    "poly_model = models.Polynomial1D(3) #a low order fit"
   ]
  },
  {
   "cell_type": "code",
   "execution_count": 12,
   "metadata": {},
   "outputs": [],
   "source": [
    "flats_dic={}"
   ]
  },
  {
   "cell_type": "code",
   "execution_count": 13,
   "metadata": {},
   "outputs": [],
   "source": [
    "master_bias = ccdproc.CCDData.read('Bias.fits')"
   ]
  },
  {
   "cell_type": "code",
   "execution_count": 14,
   "metadata": {},
   "outputs": [],
   "source": [
    "master_dark = ccdproc.CCDData.read('Dark.fits')"
   ]
  },
  {
   "cell_type": "code",
   "execution_count": 15,
   "metadata": {},
   "outputs": [],
   "source": [
    "master_dark.header['exptime']=300.0"
   ]
  },
  {
   "cell_type": "code",
   "execution_count": 16,
   "metadata": {},
   "outputs": [
    {
     "name": "stdout",
     "output_type": "stream",
     "text": [
      "300.0\n"
     ]
    }
   ],
   "source": [
    "print(master_dark.header['exptime'])"
   ]
  },
  {
   "cell_type": "code",
   "execution_count": 17,
   "metadata": {},
   "outputs": [],
   "source": [
    "wavebands = []"
   ]
  },
  {
   "cell_type": "code",
   "execution_count": 18,
   "metadata": {},
   "outputs": [
    {
     "name": "stderr",
     "output_type": "stream",
     "text": [
      "WARNING: VerifyWarning: Verification reported errors: [astropy.io.fits.verify]\n",
      "WARNING: VerifyWarning: Card 'CD1_1' is not FITS standard (invalid value string: '+NAN                 / WCS (1/InstScaleX)*cos(InstAng)').  Fixed 'CD1_1' card to meet the FITS standard. [astropy.io.fits.verify]\n",
      "WARNING: VerifyWarning: Note: astropy.io.fits uses zero-based indexing.\n",
      " [astropy.io.fits.verify]\n",
      "WARNING: VerifyWarning: Card 'CD1_2' is not FITS standard (invalid value string: '+NAN                 / WCS (1/InstScaleY)*sin(InstAng)').  Fixed 'CD1_2' card to meet the FITS standard. [astropy.io.fits.verify]\n",
      "WARNING: VerifyWarning: Card 'CD2_1' is not FITS standard (invalid value string: '+NAN                 / WCS (-1/(InstScaleX)*sin(InstAng)').  Fixed 'CD2_1' card to meet the FITS standard. [astropy.io.fits.verify]\n",
      "WARNING: VerifyWarning: Card 'CD2_2' is not FITS standard (invalid value string: '+NAN                 / WCS (1/InstScaleY)*cos(InstAng)').  Fixed 'CD2_2' card to meet the FITS standard. [astropy.io.fits.verify]\n",
      "WARNING: FITSFixedWarning: RADECSYS= 'Mount' / Coordinate system, per TCC ObjSys \n",
      "the RADECSYS keyword is deprecated, use RADESYSa. [astropy.wcs.wcs]\n",
      "WARNING: FITSFixedWarning: CD1_1 = '+NAN ' / WCS (1/InstScaleX)*cos(InstAng) \n",
      "a floating-point value was expected. [astropy.wcs.wcs]\n",
      "WARNING: FITSFixedWarning: CD1_2 = '+NAN ' / WCS (1/InstScaleY)*sin(InstAng) \n",
      "a floating-point value was expected. [astropy.wcs.wcs]\n",
      "WARNING: FITSFixedWarning: CD2_1 = '+NAN ' / WCS (-1/(InstScaleX)*sin(InstAng) \n",
      "a floating-point value was expected. [astropy.wcs.wcs]\n",
      "WARNING: FITSFixedWarning: CD2_2 = '+NAN ' / WCS (1/InstScaleY)*cos(InstAng) \n",
      "a floating-point value was expected. [astropy.wcs.wcs]\n"
     ]
    }
   ],
   "source": [
    "for flatimg in flats:\n",
    "    tmpimg = ccdproc.CCDData.read(flatimg,unit='adu')\n",
    "    wavebands.append(tmpimg.header['filter'])"
   ]
  },
  {
   "cell_type": "code",
   "execution_count": 19,
   "metadata": {},
   "outputs": [],
   "source": [
    "wavebands=list(set(wavebands))"
   ]
  },
  {
   "cell_type": "code",
   "execution_count": 20,
   "metadata": {},
   "outputs": [],
   "source": [
    "for waveband in wavebands:\n",
    "    flats_dic[waveband]={}"
   ]
  },
  {
   "cell_type": "code",
   "execution_count": 21,
   "metadata": {},
   "outputs": [
    {
     "name": "stdout",
     "output_type": "stream",
     "text": [
      "flat_g.0231.fits copied to RAW\n",
      "flat_g.0223.fits copied to RAW\n",
      "flat_r.0236.fits copied to RAW\n",
      "flat_g.0226.fits copied to RAW\n",
      "flat_g.0222.fits copied to RAW\n",
      "flat_r.0235.fits copied to RAW\n"
     ]
    },
    {
     "name": "stderr",
     "output_type": "stream",
     "text": [
      "WARNING: VerifyWarning: Verification reported errors: [astropy.io.fits.verify]\n",
      "WARNING: VerifyWarning: Card 'CD1_1' is not FITS standard (invalid value string: '+NAN                 / WCS (1/InstScaleX)*cos(InstAng)').  Fixed 'CD1_1' card to meet the FITS standard. [astropy.io.fits.verify]\n",
      "WARNING: VerifyWarning: Note: astropy.io.fits uses zero-based indexing.\n",
      " [astropy.io.fits.verify]\n",
      "WARNING: VerifyWarning: Card 'CD1_2' is not FITS standard (invalid value string: '+NAN                 / WCS (1/InstScaleY)*sin(InstAng)').  Fixed 'CD1_2' card to meet the FITS standard. [astropy.io.fits.verify]\n",
      "WARNING: VerifyWarning: Card 'CD2_1' is not FITS standard (invalid value string: '+NAN                 / WCS (-1/(InstScaleX)*sin(InstAng)').  Fixed 'CD2_1' card to meet the FITS standard. [astropy.io.fits.verify]\n",
      "WARNING: VerifyWarning: Card 'CD2_2' is not FITS standard (invalid value string: '+NAN                 / WCS (1/InstScaleY)*cos(InstAng)').  Fixed 'CD2_2' card to meet the FITS standard. [astropy.io.fits.verify]\n",
      "WARNING: FITSFixedWarning: RADECSYS= 'Mount' / Coordinate system, per TCC ObjSys \n",
      "the RADECSYS keyword is deprecated, use RADESYSa. [astropy.wcs.wcs]\n",
      "WARNING: FITSFixedWarning: CD1_1 = '+NAN ' / WCS (1/InstScaleX)*cos(InstAng) \n",
      "a floating-point value was expected. [astropy.wcs.wcs]\n",
      "WARNING: FITSFixedWarning: CD1_2 = '+NAN ' / WCS (1/InstScaleY)*sin(InstAng) \n",
      "a floating-point value was expected. [astropy.wcs.wcs]\n",
      "WARNING: FITSFixedWarning: CD2_1 = '+NAN ' / WCS (-1/(InstScaleX)*sin(InstAng) \n",
      "a floating-point value was expected. [astropy.wcs.wcs]\n",
      "WARNING: FITSFixedWarning: CD2_2 = '+NAN ' / WCS (1/InstScaleY)*cos(InstAng) \n",
      "a floating-point value was expected. [astropy.wcs.wcs]\n"
     ]
    },
    {
     "name": "stdout",
     "output_type": "stream",
     "text": [
      "flat_r.0234.fits copied to RAW\n",
      "flat_r.0237.fits copied to RAW\n",
      "flat_r.0240.fits copied to RAW\n",
      "flat_r.0241.fits copied to RAW\n",
      "flat_r.0239.fits copied to RAW\n",
      "flat_r.0232.fits copied to RAW\n",
      "flat_g.0230.fits copied to RAW\n",
      "flat_r.0233.fits copied to RAW\n",
      "flat_g.0228.fits copied to RAW\n",
      "flat_r.0238.fits copied to RAW\n",
      "flat_g.0229.fits copied to RAW\n",
      "flat_g.0225.fits copied to RAW\n",
      "flat_g.0227.fits copied to RAW\n",
      "flat_g.0224.fits copied to RAW\n"
     ]
    }
   ],
   "source": [
    "for flatimg in flats:\n",
    "    if not os.path.isdir('RAW'):\n",
    "        os.mkdir('RAW')\n",
    "        print ('RAW directory created')\n",
    "    if not os.path.isfile('RAW/%s'%flatimg):\n",
    "        shutil.copyfile(flatimg,'RAW/%s'%flatimg)\n",
    "        print('%s copied to RAW' %flatimg)\n",
    "    \n",
    "    tmpimg = ccdproc.CCDData.read(flatimg,unit='adu')\n",
    "    tmplog = {'overscan':'overscan region[:,1029:1050] subtracted','calstat':'O'}\n",
    "    ns_tmpimg = ccdproc.subtract_overscan(tmpimg,overscan=tmpimg[:,1029:1050],model=poly_model,add_keyword=tmplog)\n",
    "    tmplog = {'trim':'overscan region trimmed','calstat':'OT'}\n",
    "    tr_tmpimg = ccdproc.trim_image(ns_tmpimg[:,:1024],add_keyword=tmplog)\n",
    "    tmplog = {'bias':'Zero image subtracted','calstat':'OTZ'}\n",
    "    ze_tmpimg = ccdproc.subtract_bias(tr_tmpimg,master_bias,add_keyword=tmplog)\n",
    "    #tmplog = {'dark':'Dark image subtracted','calstat':'OTZD'}\n",
    "    #dk_tmpimg = ccdproc.subtract_dark(ze_tmpimg,master_dark,exposure_time='exptime',exposure_unit=un.second, scale=False, add_keyword=tmplog)\n",
    "    dk_tmpimg = ze_tmpimg        \n",
    "    #dk_tmpimg.write(flatimg,clobber=True)\n",
    "    if dk_tmpimg.header['filter'] in wavebands:\n",
    "            flats_dic[dk_tmpimg.header['filter']][flatimg]=dk_tmpimg"
   ]
  },
  {
   "cell_type": "code",
   "execution_count": 22,
   "metadata": {},
   "outputs": [
    {
     "name": "stdout",
     "output_type": "stream",
     "text": [
      "dict_keys(['flat_r.0236.fits', 'flat_r.0237.fits', 'flat_r.0233.fits', 'flat_r.0239.fits', 'flat_r.0238.fits', 'flat_r.0240.fits', 'flat_r.0235.fits', 'flat_r.0241.fits', 'flat_r.0234.fits', 'flat_r.0232.fits'])\n",
      "FlatSDSS_r.fits written\n",
      "dict_keys(['flat_g.0228.fits', 'flat_g.0226.fits', 'flat_g.0223.fits', 'flat_g.0230.fits', 'flat_g.0224.fits', 'flat_g.0222.fits', 'flat_g.0229.fits', 'flat_g.0231.fits', 'flat_g.0225.fits', 'flat_g.0227.fits'])\n",
      "FlatSDSS_g.fits written\n"
     ]
    }
   ],
   "source": [
    "for key in flats_dic.keys():\n",
    "    print(flats_dic[key].keys())\n",
    "    combiner = Combiner(flats_dic[key].values())\n",
    "    # combiner.scaling=array(exptimes)## need to replace with mode of image region\n",
    "    combiner.sigma_clipping()\n",
    "    med_dark = combiner.median_combine() # may use a more agressive combine later\n",
    "    med_dark.write('Flat%s.fits'%('_'.join(key.split())))\n",
    "    print('Flat%s.fits written'%('_'.join(key.split())))\n",
    "    [os.remove(x) for x in flats_dic[key].keys()]"
   ]
  },
  {
   "cell_type": "code",
   "execution_count": null,
   "metadata": {},
   "outputs": [],
   "source": []
  },
  {
   "cell_type": "code",
   "execution_count": null,
   "metadata": {},
   "outputs": [],
   "source": []
  }
 ],
 "metadata": {
  "kernelspec": {
   "display_name": "Python 3",
   "language": "python",
   "name": "python3"
  },
  "language_info": {
   "codemirror_mode": {
    "name": "ipython",
    "version": 3
   },
   "file_extension": ".py",
   "mimetype": "text/x-python",
   "name": "python",
   "nbconvert_exporter": "python",
   "pygments_lexer": "ipython3",
   "version": "3.5.4"
  }
 },
 "nbformat": 4,
 "nbformat_minor": 2
}
